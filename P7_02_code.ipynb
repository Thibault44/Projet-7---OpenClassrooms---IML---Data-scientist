{
 "cells": [
  {
   "cell_type": "code",
   "execution_count": 19,
   "metadata": {
    "id": "hKHPr3HKzPjI"
   },
   "outputs": [],
   "source": [
    "import numpy as np \n",
    "import pandas as pd \n",
    "import os\n",
    "import glob\n",
    "import matplotlib.pyplot as plt\n",
    "\n",
    "from scipy.io import loadmat\n",
    "\n",
    "import PIL\n",
    "import cv2\n",
    "\n",
    "from tensorflow import keras\n",
    "from tensorflow.keras import layers\n",
    "\n",
    "import tensorflow as tf\n",
    "\n",
    "from tensorflow.keras.layers import Dense, Conv2D, MaxPooling2D, Dropout, BatchNormalization, GlobalAveragePooling2D, Activation\n",
    "\n",
    "from tensorflow.keras.callbacks import EarlyStopping, ReduceLROnPlateau\n",
    "\n",
    "from tensorflow.keras.preprocessing import image\n",
    "from tensorflow.keras.preprocessing.image import ImageDataGenerator\n",
    "\n",
    "#Transfert Learning\n",
    "from tensorflow.keras.applications.resnet50 import ResNet50\n",
    "from tensorflow.keras.applications.resnet50 import preprocess_input as preprocess_input_resnet50\n",
    "\n",
    "from tensorflow.keras.models import load_model\n",
    "\n",
    "import shutil\n",
    "from sklearn.model_selection import train_test_split\n",
    "\n",
    "from numpy import asarray\n",
    "from PIL import Image"
   ]
  },
  {
   "cell_type": "code",
   "execution_count": 20,
   "metadata": {},
   "outputs": [],
   "source": [
    "import numpy as np \n",
    "import pandas as pd \n",
    "import os\n",
    "import glob\n",
    "import matplotlib.pyplot as plt\n",
    "\n",
    "from scipy.io import loadmat\n",
    "\n",
    "import PIL\n",
    "import cv2\n",
    "\n",
    "from tensorflow import keras\n",
    "\n",
    "import tensorflow as tf\n",
    "\n",
    "\n",
    "from tensorflow.keras.callbacks import EarlyStopping, ReduceLROnPlateau\n",
    "\n",
    "from tensorflow.keras.preprocessing import image\n",
    "from tensorflow.keras.preprocessing.image import ImageDataGenerator\n",
    "\n",
    "#Transfert Learning\n",
    "from tensorflow.keras.applications.resnet50 import ResNet50\n",
    "from tensorflow.keras.applications.resnet50 import preprocess_input as preprocess_input_resnet50\n",
    "\n",
    "from tensorflow.keras.models import load_model\n",
    "\n",
    "import shutil\n",
    "from sklearn.model_selection import train_test_split\n",
    "\n",
    "from numpy import asarray\n",
    "from PIL import Image"
   ]
  },
  {
   "cell_type": "code",
   "execution_count": 21,
   "metadata": {},
   "outputs": [],
   "source": [
    "net = cv2.dnn.readNet(\"yolov3.weights\", \"yolov3.cfg\")\n",
    "classes = []\n",
    "with open(\"coco.names\", \"r\") as f:\n",
    "    classes = [line.strip() for line in f.readlines()]\n",
    "layer_names = net.getLayerNames()\n",
    "output_layers = [layer_names[i[0] - 1] for i in net.getUnconnectedOutLayers()]\n"
   ]
  },
  {
   "cell_type": "code",
   "execution_count": 109,
   "metadata": {},
   "outputs": [],
   "source": [
    "os.mkdir(\"train\")\n",
    "os.mkdir(\"test\")\n",
    "os.mkdir(\"val\")\n",
    "#os.mkdir(\"Im2\")"
   ]
  },
  {
   "cell_type": "code",
   "execution_count": 110,
   "metadata": {},
   "outputs": [],
   "source": [
    "images_folder='Images'\n",
    "for folder in os.listdir('Images'):\n",
    "    os.makedirs(\"train/\" + folder)\n",
    "    os.makedirs(\"test/\" + folder)\n",
    "    os.makedirs(\"val/\" + folder)\n",
    "    #os.makedirs(\"Im2/\" + folder)"
   ]
  },
  {
   "cell_type": "code",
   "execution_count": 105,
   "metadata": {},
   "outputs": [],
   "source": [
    "a=0\n",
    "from tensorflow.keras.preprocessing import image\n",
    "def detect_and_crop(path):\n",
    "        global a\n",
    "         # chargement et transformation en array de l'image avec tensorflow\n",
    "        img = image.load_img(path)\n",
    "        img= image.img_to_array(img) \n",
    "        height, width, channels = img.shape\n",
    "        # Detection des objets\n",
    "        blob = cv2.dnn.blobFromImage(img, 0.00392, (416, 416), (0, 0, 0), True, crop=False)\n",
    "        net.setInput(blob)\n",
    "        outs = net.forward(output_layers)\n",
    "\n",
    "        class_ids = []\n",
    "        confidences = []\n",
    "        boxes = []\n",
    "        for out in outs:\n",
    "            for detection in out:\n",
    "                scores = detection[5:]\n",
    "                class_id = np.argmax(scores)\n",
    "                confidence = scores[class_id]\n",
    "                if confidence > 0.5:\n",
    "                    # On calcul les délimitations des boxes\n",
    "                    center_x = int(detection[0] * width)\n",
    "                    center_y = int(detection[1] * height)\n",
    "                    w = int(detection[2] * width)\n",
    "                    h = int(detection[3] * height)\n",
    "                    x = int(center_x - w / 2)\n",
    "                    y = int(center_y - h / 2)\n",
    "                    boxes.append([x, y, w, h])\n",
    "                    \n",
    "                    confidences.append(float(confidence))\n",
    "                    class_ids.append(class_id)\n",
    "                    \n",
    "        indexes = cv2.dnn.NMSBoxes(boxes, confidences, 0.5, 0.4)\n",
    "        for i in range(len(boxes)):\n",
    "            label = str(classes[class_ids[i]])\n",
    "            if i in indexes and label == 'dog':\n",
    "                x, y, w, h = boxes[i]\n",
    "                img = image.load_img(path)\n",
    "                img = image.img_to_array(img)\n",
    "                # On récuprere seulement la boxe contenant un chien\n",
    "                crop_img = img[y:y+h, x:x+w]\n",
    "                height, width, channels = crop_img.shape\n",
    "                # On s'assure que l'image est de qualité suffisante\n",
    "                if height > 150 and width > 150:\n",
    "                    im = image.array_to_img(crop_img)\n",
    "                    #on enregistre l'image dans un nouveau dossier Im3\n",
    "                    im.save(\"Im3/{}/{}.jpg\".format(path.split('/')[1],a))\n",
    "                    a+=1            \n",
    "          "
   ]
  },
  {
   "cell_type": "code",
   "execution_count": 106,
   "metadata": {},
   "outputs": [],
   "source": [
    "for i in os.listdir('Images'):\n",
    "    for j in os.listdir('Images/{}'.format(i)):\n",
    "        path=\"Images/{}/{}\".format(i,j)\n",
    "        img=detect_and_crop(path)"
   ]
  },
  {
   "cell_type": "code",
   "execution_count": 111,
   "metadata": {},
   "outputs": [],
   "source": [
    "dict={}\n",
    "for i in os.listdir('Im3'):\n",
    "    dict[i]=0\n",
    "    for j in os.listdir('Im3/{}'.format(i)):\n",
    "        dict[i]+=1\n",
    "\n",
    "for i in os.listdir('Im3'):\n",
    "    a=0\n",
    "    liste=list(range(0,dict[i]))\n",
    "    train,val=train_test_split(liste, test_size=0.1, random_state=1)\n",
    "    train,test=train_test_split(train, test_size=0.1, random_state=1)\n",
    "    for j in os.listdir('Im3/{}'.format(i)):\n",
    "        path=\"Im3/{}/{}\".format(i,j)\n",
    "        if a in train:\n",
    "            shutil.copy(path, \"train/{}/{}\".format(i,j))\n",
    "        if a in test:\n",
    "            shutil.copy(path, \"test/{}/{}\".format(i,j))\n",
    "        if a in val:\n",
    "            shutil.copy(path, \"val/{}/{}\".format(i,j))\n",
    "        a+=1"
   ]
  },
  {
   "cell_type": "code",
   "execution_count": 113,
   "metadata": {},
   "outputs": [
    {
     "name": "stdout",
     "output_type": "stream",
     "text": [
      "n02093859-Kerry_blue_terrier\n",
      "n02099429-curly-coated_retriever\n",
      "n02102973-Irish_water_spaniel\n",
      "n02104029-kuvasz\n",
      "n02105056-groenendael\n",
      "n02105505-komondor\n",
      "n02106382-Bouvier_des_Flandres\n",
      "n02115641-dingo\n",
      "n02115913-dhole\n",
      "n02116738-African_hunting_dog\n"
     ]
    }
   ],
   "source": [
    "dict_train={}\n",
    "for i in os.listdir('train'):\n",
    "    dict_train[i]=0\n",
    "    for j in os.listdir('train/{}'.format(i)):\n",
    "        dict_train[i]+=1\n",
    "\n",
    "keys = list(dict_train.keys())\n",
    "values = list(dict_train.values())\n",
    "\n",
    "for i in keys :\n",
    "    if dict_train[i] < 70 :\n",
    "        print(i)"
   ]
  },
  {
   "cell_type": "code",
   "execution_count": 114,
   "metadata": {},
   "outputs": [
    {
     "data": {
      "image/png": "[encoded data removed]",
      "text/plain": [
       "<Figure size 720x720 with 1 Axes>"
      ]
     },
     "metadata": {
      "needs_background": "light"
     },
     "output_type": "display_data"
    }
   ],
   "source": [
    "dict_train={}\n",
    "for i in os.listdir('train'):\n",
    "    dict_train[i]=0\n",
    "    for j in os.listdir('train/{}'.format(i)):\n",
    "        dict_train[i]+=1\n",
    "\n",
    "keys = list(dict_train.keys())\n",
    "values = list(dict_train.values())\n",
    "\n",
    "for i in keys :\n",
    "    if dict_train[i] < 70 :\n",
    "        for j in os.listdir('train/{}'.format(i)):\n",
    "            os.remove('train/{}/{}'.format(i,j))\n",
    "        for j in os.listdir('val/{}'.format(i)):\n",
    "            os.remove('val/{}/{}'.format(i,j))\n",
    "        for j in os.listdir('test/{}'.format(i)):\n",
    "            os.remove('test/{}/{}'.format(i,j))\n",
    "        os.rmdir('train/{}'.format(i))\n",
    "        os.rmdir('test/{}'.format(i))\n",
    "        os.rmdir('val/{}'.format(i))\n",
    "        \n",
    "dict_train={}\n",
    "for i in os.listdir('train'):\n",
    "    dict_train[i]=0\n",
    "    for j in os.listdir('train/{}'.format(i)):\n",
    "        dict_train[i]+=1\n",
    "        \n",
    "keys = list(dict_train.keys())\n",
    "values = list(dict_train.values())\n",
    "        \n",
    "plt.figure(figsize=(10,10))\n",
    "plt.bar(keys,values)\n",
    "plt.title(\"Répartition des chiens par races\")\n",
    "plt.show()"
   ]
  },
  {
   "cell_type": "code",
   "execution_count": 115,
   "metadata": {},
   "outputs": [
    {
     "name": "stdout",
     "output_type": "stream",
     "text": [
      "110\n"
     ]
    }
   ],
   "source": [
    "print(len(values))"
   ]
  },
  {
   "cell_type": "code",
   "execution_count": 116,
   "metadata": {},
   "outputs": [
    {
     "name": "stdout",
     "output_type": "stream",
     "text": [
      "172\n",
      "70\n"
     ]
    }
   ],
   "source": [
    "print(max(values))\n",
    "print(min(values))"
   ]
  },
  {
   "cell_type": "code",
   "execution_count": 117,
   "metadata": {
    "id": "Mapp-FopzTBF"
   },
   "outputs": [],
   "source": [
    "def affichage(history):\n",
    "    acc = history.history['accuracy']\n",
    "    val_acc = history.history['val_accuracy']\n",
    "    loss = history.history['loss']\n",
    "    val_loss = history.history['val_loss']\n",
    "\n",
    "    plt.figure(figsize=(8, 8))\n",
    "    plt.subplot(1, 2, 1)\n",
    "    plt.plot(range(len(acc)), acc, label='Training Accuracy')\n",
    "    plt.plot(range(len(acc)), val_acc, label='Validation Accuracy')\n",
    "    plt.legend(loc='lower right')\n",
    "    plt.title('Training and Validation Accuracy')\n",
    "\n",
    "    plt.subplot(1, 2, 2)\n",
    "    plt.plot(range(len(acc)), loss, label='Training Loss')\n",
    "    plt.plot(range(len(acc)), val_loss, label='Validation Loss')\n",
    "    plt.legend(loc='upper right')\n",
    "    plt.title('Training and Validation Loss')\n",
    "    plt.show()"
   ]
  },
  {
   "cell_type": "code",
   "execution_count": 124,
   "metadata": {
    "id": "6X6kKGVJzdcR"
   },
   "outputs": [],
   "source": [
    "batch_size = 64\n",
    "num_classes = len(values)\n",
    "size=224\n",
    "epochs=100"
   ]
  },
  {
   "cell_type": "code",
   "execution_count": 139,
   "metadata": {},
   "outputs": [],
   "source": [
    "results = pd.DataFrame({})\n",
    "def errors(name,model,x_train,x_val,x_test):\n",
    "    global results\n",
    "    train=model.evaluate(x_train)\n",
    "    val=model.evaluate(x_val)\n",
    "    test=model.evaluate(x_test)\n",
    "    results = results.append(pd.DataFrame({\n",
    "        'Modèle': [name],\n",
    "        'acc':train[1],\n",
    "        'val_acc':val[1],\n",
    "        'evaluate(x_test)_acc':test[1],\n",
    "        'loss':train[0],\n",
    "        'val_loss':val[0],\n",
    "        'evaluate(x_test)_loss':test[0],\n",
    "        }))"
   ]
  },
  {
   "cell_type": "code",
   "execution_count": 126,
   "metadata": {},
   "outputs": [],
   "source": [
    "early_stopping = EarlyStopping(monitor='val_loss', min_delta=0.001, patience=5, verbose=1, mode='auto')\n",
    "reduce_lr = ReduceLROnPlateau(factor=0.1, patience=3,verbose=1)"
   ]
  },
  {
   "cell_type": "markdown",
   "metadata": {},
   "source": [
    "# Données non détectées du P6"
   ]
  },
  {
   "cell_type": "code",
   "execution_count": 127,
   "metadata": {},
   "outputs": [],
   "source": [
    "os.mkdir(\"train_P6\")\n",
    "os.mkdir(\"test_P6\")\n",
    "os.mkdir(\"val_P6\")\n",
    "\n",
    "images_folder='Images'\n",
    "for folder in os.listdir('Images'):\n",
    "    os.makedirs(\"train_P6/\" + folder)\n",
    "    os.makedirs(\"test_P6/\" + folder)\n",
    "    os.makedirs(\"val_P6/\" + folder)\n",
    "\n",
    "dict={}\n",
    "for i in os.listdir('Images'):\n",
    "    dict[i]=0\n",
    "    for j in os.listdir('Images/{}'.format(i)):\n",
    "        dict[i]+=1\n",
    "\n",
    "for i in os.listdir('Images'):\n",
    "    a=0\n",
    "    for j in os.listdir('Images/{}'.format(i)):\n",
    "        path=\"Images/{}/{}\".format(i,j)\n",
    "        liste=list(range(0,dict[i]))\n",
    "        train_P6,val_P6=train_test_split(liste, test_size=0.1, random_state=1)\n",
    "        train_P6,test_P6=train_test_split(train_P6, test_size=0.1, random_state=1)\n",
    "        if a in train_P6:\n",
    "            shutil.copy(path, \"train_P6/{}/{}\".format(i,j))\n",
    "        if a in test_P6:\n",
    "            shutil.copy(path, \"test_P6/{}/{}\".format(i,j))\n",
    "        if a in val_P6:\n",
    "            shutil.copy(path, \"val_P6/{}/{}\".format(i,j))\n",
    "        a+=1"
   ]
  },
  {
   "cell_type": "code",
   "execution_count": 128,
   "metadata": {},
   "outputs": [],
   "source": [
    "dict_train_P6={}\n",
    "for i in os.listdir('train_P6'):\n",
    "    dict_train_P6[i]=0\n",
    "    for j in os.listdir('train_P6/{}'.format(i)):\n",
    "        dict_train_P6[i]+=1\n",
    "\n",
    "keys_P6 = list(dict_train_P6.keys())\n",
    "values_P6 = list(dict_train_P6.values())"
   ]
  },
  {
   "cell_type": "code",
   "execution_count": 129,
   "metadata": {},
   "outputs": [
    {
     "data": {
      "text/plain": [
       "120"
      ]
     },
     "execution_count": 129,
     "metadata": {},
     "output_type": "execute_result"
    }
   ],
   "source": [
    "len(keys_P6)"
   ]
  },
  {
   "cell_type": "code",
   "execution_count": 130,
   "metadata": {},
   "outputs": [],
   "source": [
    "#On conserve les memes 102 races pour ne pas fausser les résultats\n",
    "for i in keys_P6:\n",
    "    if i not in keys:\n",
    "        for j in os.listdir('train_P6/{}'.format(i)):\n",
    "            os.remove('train_P6/{}/{}'.format(i,j))\n",
    "        for j in os.listdir('val_P6/{}'.format(i)):\n",
    "            os.remove('val_P6/{}/{}'.format(i,j))\n",
    "        for j in os.listdir('test_P6/{}'.format(i)):\n",
    "            os.remove('test_P6/{}/{}'.format(i,j))\n",
    "        os.rmdir('train_P6/{}'.format(i))\n",
    "        os.rmdir('test_P6/{}'.format(i))\n",
    "        os.rmdir('val_P6/{}'.format(i))"
   ]
  },
  {
   "cell_type": "code",
   "execution_count": 137,
   "metadata": {},
   "outputs": [
    {
     "name": "stdout",
     "output_type": "stream",
     "text": [
      "Found 15311 images belonging to 110 classes.\n",
      "Found 1952 images belonging to 110 classes.\n",
      "Found 1758 images belonging to 110 classes.\n",
      "Epoch 1/200\n",
      "240/240 [==============================] - 144s 581ms/step - loss: 3.0701 - accuracy: 0.3059 - val_loss: 1.3809 - val_accuracy: 0.5886\n",
      "Epoch 2/200\n",
      "240/240 [==============================] - 137s 572ms/step - loss: 1.7387 - accuracy: 0.5237 - val_loss: 1.2762 - val_accuracy: 0.6296\n",
      "Epoch 3/200\n",
      "240/240 [==============================] - 137s 568ms/step - loss: 1.5975 - accuracy: 0.5502 - val_loss: 1.2487 - val_accuracy: 0.6470\n",
      "Epoch 4/200\n",
      "240/240 [==============================] - 138s 572ms/step - loss: 1.4891 - accuracy: 0.5780 - val_loss: 1.2835 - val_accuracy: 0.6414\n",
      "Epoch 5/200\n",
      "240/240 [==============================] - 141s 588ms/step - loss: 1.4009 - accuracy: 0.5931 - val_loss: 1.2134 - val_accuracy: 0.6516\n",
      "Epoch 6/200\n",
      "240/240 [==============================] - 140s 584ms/step - loss: 1.3725 - accuracy: 0.5982 - val_loss: 1.2318 - val_accuracy: 0.6440\n",
      "Epoch 7/200\n",
      "240/240 [==============================] - 141s 585ms/step - loss: 1.2920 - accuracy: 0.6209 - val_loss: 1.2067 - val_accuracy: 0.6501\n",
      "Epoch 8/200\n",
      "240/240 [==============================] - 140s 581ms/step - loss: 1.2820 - accuracy: 0.6261 - val_loss: 1.2406 - val_accuracy: 0.6434\n",
      "Epoch 9/200\n",
      "240/240 [==============================] - 137s 572ms/step - loss: 1.2417 - accuracy: 0.6362 - val_loss: 1.1997 - val_accuracy: 0.6655\n",
      "Epoch 10/200\n",
      "240/240 [==============================] - 136s 566ms/step - loss: 1.2210 - accuracy: 0.6421 - val_loss: 1.2324 - val_accuracy: 0.6568\n",
      "Epoch 11/200\n",
      "240/240 [==============================] - 135s 564ms/step - loss: 1.1503 - accuracy: 0.6626 - val_loss: 1.2610 - val_accuracy: 0.6557\n",
      "Epoch 12/200\n",
      "240/240 [==============================] - 140s 582ms/step - loss: 1.1279 - accuracy: 0.6705 - val_loss: 1.2457 - val_accuracy: 0.6562\n",
      "\n",
      "Epoch 00012: ReduceLROnPlateau reducing learning rate to 0.00010000000474974513.\n",
      "Epoch 13/200\n",
      "240/240 [==============================] - 137s 570ms/step - loss: 1.0063 - accuracy: 0.7048 - val_loss: 1.1278 - val_accuracy: 0.6793\n",
      "Epoch 14/200\n",
      "240/240 [==============================] - 144s 598ms/step - loss: 0.9581 - accuracy: 0.7182 - val_loss: 1.1209 - val_accuracy: 0.6880\n",
      "Epoch 15/200\n",
      "240/240 [==============================] - 151s 627ms/step - loss: 0.9258 - accuracy: 0.7232 - val_loss: 1.1232 - val_accuracy: 0.6803\n",
      "Epoch 16/200\n",
      "240/240 [==============================] - 150s 625ms/step - loss: 0.9292 - accuracy: 0.7225 - val_loss: 1.1302 - val_accuracy: 0.6865\n",
      "Epoch 17/200\n",
      "240/240 [==============================] - 149s 622ms/step - loss: 0.9330 - accuracy: 0.7189 - val_loss: 1.1372 - val_accuracy: 0.6793\n",
      "\n",
      "Epoch 00017: ReduceLROnPlateau reducing learning rate to 1.0000000474974514e-05.\n",
      "Epoch 18/200\n",
      "240/240 [==============================] - 150s 626ms/step - loss: 0.9060 - accuracy: 0.7321 - val_loss: 1.1341 - val_accuracy: 0.6783\n",
      "Epoch 19/200\n",
      "240/240 [==============================] - 144s 598ms/step - loss: 0.8773 - accuracy: 0.7438 - val_loss: 1.1333 - val_accuracy: 0.6793\n",
      "Epoch 00019: early stopping\n"
     ]
    },
    {
     "data": {
      "image/png": "[encoded data removed]",
      "text/plain": [
       "<Figure size 576x576 with 2 Axes>"
      ]
     },
     "metadata": {
      "needs_background": "light"
     },
     "output_type": "display_data"
    },
    {
     "name": "stdout",
     "output_type": "stream",
     "text": [
      "28/28 [==============================] - 8s 293ms/step - loss: 1.1932 - accuracy: 0.6780\n",
      "[1.1931689977645874, 0.6780432462692261]\n",
      "31/31 [==============================] - 8s 254ms/step - loss: 1.1333 - accuracy: 0.6793\n",
      "[1.133317232131958, 0.6793032884597778]\n",
      "240/240 [==============================] - 131s 546ms/step - loss: 0.7232 - accuracy: 0.7885\n",
      "[0.7232239246368408, 0.7884527444839478]\n"
     ]
    }
   ],
   "source": [
    "train_datagen_P6 = ImageDataGenerator(preprocessing_function=preprocess_input_resnet50,\n",
    "                                      rotation_range=45,\n",
    "                                      horizontal_flip = True,\n",
    "                                      width_shift_range = 0.2,\n",
    "                                      height_shift_range = 0.2,\n",
    "                                      zoom_range = 0.3,\n",
    "                                      fill_mode='nearest')\n",
    "    \n",
    "valid_datagen_P6 = ImageDataGenerator(preprocessing_function=preprocess_input_resnet50)\n",
    "\n",
    "x_train_P6 = train_datagen_P6.flow_from_directory(\n",
    "    \"train_P6\",\n",
    "    batch_size= batch_size,   \n",
    "    shuffle= True, \n",
    "    class_mode=\"categorical\",\n",
    "    target_size=(size, size),\n",
    "    seed=123)\n",
    "\n",
    "x_val_P6 = valid_datagen_P6.flow_from_directory(\n",
    "    \"val_P6\",\n",
    "    batch_size= batch_size,\n",
    "    shuffle= True, \n",
    "    class_mode=\"categorical\",\n",
    "    target_size=(size, size),\n",
    "    seed=123)\n",
    "\n",
    "x_test_P6 = valid_datagen_P6.flow_from_directory(\n",
    "    \"test_P6\",\n",
    "    batch_size= batch_size,\n",
    "    shuffle= True, \n",
    "    class_mode=\"categorical\",\n",
    "    target_size=(size, size),\n",
    "    seed=123)\n",
    "\n",
    "base_model = ResNet50(weights='imagenet', include_top=False, input_shape=(size, size, 3))\n",
    "\n",
    "base_model.trainable = False\n",
    "\n",
    "\n",
    "inputs = keras.Input(shape=(size, size, 3))\n",
    "\n",
    "x = base_model(inputs, training=False)\n",
    "\n",
    "x=Dropout(0.3)(x)\n",
    "\n",
    "x= Dense(1024, use_bias=False, kernel_initializer='uniform')(x)\n",
    "x=BatchNormalization()(x)    \n",
    "x=Activation(\"relu\")(x)\n",
    "\n",
    "x= Dense(562, use_bias=False, kernel_initializer='uniform')(x)\n",
    "x=BatchNormalization()(x)    \n",
    "x=Activation(\"relu\")(x)\n",
    "\n",
    "x=GlobalAveragePooling2D()(x)\n",
    "x=Dropout(0.3)(x)\n",
    "outputs=Dense(num_classes,activation='softmax')(x)\n",
    "model_ResNet50_P6= keras.Model(inputs, outputs)\n",
    "\n",
    "model_ResNet50_P6.compile(optimizer= 'Nadam', \n",
    "              loss='categorical_crossentropy', \n",
    "              metrics=['accuracy']) \n",
    "\n",
    "history_ResNet50_P6=model_ResNet50_P6.fit(x_train_P6,epochs=200,validation_data=(x_val_P6), callbacks=[early_stopping,reduce_lr])\n",
    "\n",
    "affichage(history_ResNet50_P6) \n",
    "\n",
    "print(model_ResNet50_P6.evaluate(x_test_P6))\n",
    "\n",
    "print(model_ResNet50_P6.evaluate(x_val_P6))\n",
    "\n",
    "print(model_ResNet50_P6.evaluate(x_train_P6))"
   ]
  },
  {
   "cell_type": "markdown",
   "metadata": {},
   "source": [
    "# Données du P7"
   ]
  },
  {
   "cell_type": "code",
   "execution_count": 138,
   "metadata": {},
   "outputs": [
    {
     "name": "stdout",
     "output_type": "stream",
     "text": [
      "Found 11523 images belonging to 110 classes.\n",
      "Found 1486 images belonging to 110 classes.\n",
      "Found 1335 images belonging to 110 classes.\n",
      "Epoch 1/200\n",
      "181/181 [==============================] - 100s 518ms/step - loss: 2.8967 - accuracy: 0.3487 - val_loss: 0.9821 - val_accuracy: 0.6972\n",
      "Epoch 2/200\n",
      "181/181 [==============================] - 95s 524ms/step - loss: 1.3820 - accuracy: 0.6159 - val_loss: 0.8863 - val_accuracy: 0.7301\n",
      "Epoch 3/200\n",
      "181/181 [==============================] - 99s 546ms/step - loss: 1.1821 - accuracy: 0.6581 - val_loss: 0.8201 - val_accuracy: 0.7476\n",
      "Epoch 4/200\n",
      "181/181 [==============================] - 101s 555ms/step - loss: 1.1031 - accuracy: 0.6698 - val_loss: 0.7993 - val_accuracy: 0.7423\n",
      "Epoch 5/200\n",
      "181/181 [==============================] - 100s 551ms/step - loss: 1.0520 - accuracy: 0.6849 - val_loss: 0.7977 - val_accuracy: 0.7557\n",
      "Epoch 6/200\n",
      "181/181 [==============================] - 101s 559ms/step - loss: 0.9945 - accuracy: 0.7027 - val_loss: 0.8243 - val_accuracy: 0.7416\n",
      "Epoch 7/200\n",
      "181/181 [==============================] - 100s 552ms/step - loss: 0.9394 - accuracy: 0.7134 - val_loss: 0.8061 - val_accuracy: 0.7651\n",
      "Epoch 8/200\n",
      "181/181 [==============================] - 94s 516ms/step - loss: 0.9288 - accuracy: 0.7166 - val_loss: 0.8396 - val_accuracy: 0.7550\n",
      "\n",
      "Epoch 00008: ReduceLROnPlateau reducing learning rate to 0.00010000000474974513.\n",
      "Epoch 9/200\n",
      "181/181 [==============================] - 93s 515ms/step - loss: 0.8597 - accuracy: 0.7427 - val_loss: 0.7039 - val_accuracy: 0.7699\n",
      "Epoch 10/200\n",
      "181/181 [==============================] - 97s 534ms/step - loss: 0.7710 - accuracy: 0.7644 - val_loss: 0.6997 - val_accuracy: 0.7799\n",
      "Epoch 11/200\n",
      "181/181 [==============================] - 92s 509ms/step - loss: 0.7408 - accuracy: 0.7784 - val_loss: 0.7008 - val_accuracy: 0.7719\n",
      "Epoch 12/200\n",
      "181/181 [==============================] - 93s 512ms/step - loss: 0.7493 - accuracy: 0.7743 - val_loss: 0.6977 - val_accuracy: 0.7746\n",
      "Epoch 13/200\n",
      "181/181 [==============================] - 101s 557ms/step - loss: 0.7389 - accuracy: 0.7762 - val_loss: 0.7072 - val_accuracy: 0.7705\n",
      "Epoch 14/200\n",
      "181/181 [==============================] - 94s 517ms/step - loss: 0.7268 - accuracy: 0.7818 - val_loss: 0.7000 - val_accuracy: 0.7746\n",
      "Epoch 15/200\n",
      "181/181 [==============================] - 94s 520ms/step - loss: 0.7196 - accuracy: 0.7791 - val_loss: 0.7041 - val_accuracy: 0.7766\n",
      "\n",
      "Epoch 00015: ReduceLROnPlateau reducing learning rate to 1.0000000474974514e-05.\n",
      "Epoch 16/200\n",
      "181/181 [==============================] - 94s 519ms/step - loss: 0.6945 - accuracy: 0.7857 - val_loss: 0.7043 - val_accuracy: 0.7732\n",
      "Epoch 17/200\n",
      "181/181 [==============================] - 95s 521ms/step - loss: 0.6703 - accuracy: 0.8012 - val_loss: 0.7057 - val_accuracy: 0.7725\n",
      "Epoch 00017: early stopping\n"
     ]
    },
    {
     "data": {
      "image/png": "[encoded data removed]",
      "text/plain": [
       "<Figure size 576x576 with 2 Axes>"
      ]
     },
     "metadata": {
      "needs_background": "light"
     },
     "output_type": "display_data"
    },
    {
     "name": "stdout",
     "output_type": "stream",
     "text": [
      "21/21 [==============================] - 7s 310ms/step - loss: 0.6735 - accuracy: 0.8030\n",
      "[0.6734980940818787, 0.8029962778091431]\n",
      "24/24 [==============================] - 6s 230ms/step - loss: 0.7057 - accuracy: 0.7725\n",
      "[0.7057028412818909, 0.772543728351593]\n",
      "181/181 [==============================] - 96s 530ms/step - loss: 0.5691 - accuracy: 0.8296\n",
      "[0.5691022872924805, 0.829645037651062]\n"
     ]
    }
   ],
   "source": [
    "train_datagen = ImageDataGenerator(preprocessing_function=preprocess_input_resnet50,\n",
    "                                      rotation_range=45,\n",
    "                                      horizontal_flip = True,\n",
    "                                      width_shift_range = 0.2,\n",
    "                                      height_shift_range = 0.2,\n",
    "                                      zoom_range = 0.3,\n",
    "                                      fill_mode='nearest')\n",
    "\n",
    "valid_datagen = ImageDataGenerator(preprocessing_function=preprocess_input_resnet50)\n",
    "\n",
    "x_train = train_datagen.flow_from_directory(\n",
    "    \"train\",\n",
    "    batch_size= batch_size,\n",
    "    shuffle= True, \n",
    "    class_mode=\"categorical\",\n",
    "    target_size=(size, size),\n",
    "    seed=123)\n",
    "\n",
    "x_val = valid_datagen.flow_from_directory(\n",
    "    \"val\",\n",
    "    batch_size= batch_size,\n",
    "    shuffle= True, \n",
    "    class_mode=\"categorical\",\n",
    "    target_size=(size, size),\n",
    "    seed=123)\n",
    "\n",
    "x_test = valid_datagen.flow_from_directory(\n",
    "    \"test\",\n",
    "    batch_size= batch_size,\n",
    "    shuffle= True, \n",
    "    class_mode=\"categorical\",\n",
    "    target_size=(size, size),\n",
    "    seed=123)\n",
    "\n",
    "base_model = ResNet50(weights='imagenet', include_top=False, input_shape=(size, size, 3))\n",
    "\n",
    "base_model.trainable = False\n",
    "\n",
    "inputs = keras.Input(shape=(size, size, 3))\n",
    "\n",
    "x = base_model(inputs, training=False)\n",
    "\n",
    "x=Dropout(0.3)(x)\n",
    "\n",
    "x= Dense(1024, use_bias=False, kernel_initializer='uniform')(x)\n",
    "x=BatchNormalization()(x)    \n",
    "x=Activation(\"relu\")(x)\n",
    "\n",
    "x= Dense(562, use_bias=False, kernel_initializer='uniform')(x)\n",
    "x=BatchNormalization()(x)    \n",
    "x=Activation(\"relu\")(x)\n",
    "\n",
    "x=GlobalAveragePooling2D()(x)\n",
    "x=Dropout(0.3)(x)\n",
    "outputs=Dense(num_classes,activation='softmax')(x)\n",
    "model_ResNet50_P7= keras.Model(inputs, outputs)\n",
    "\n",
    "model_ResNet50_P7.compile(optimizer= 'Nadam', \n",
    "              loss='categorical_crossentropy', \n",
    "              metrics=['accuracy']) \n",
    "\n",
    "history_ResNet50_P7=model_ResNet50_P7.fit(x_train,epochs=200,validation_data=(x_val), callbacks=[early_stopping,reduce_lr])\n",
    "affichage(history_ResNet50_P7) \n",
    "\n",
    "print(model_ResNet50_P7.evaluate(x_test))\n",
    "\n",
    "print(model_ResNet50_P7.evaluate(x_val))\n",
    "\n",
    "print(model_ResNet50_P7.evaluate(x_train))"
   ]
  },
  {
   "cell_type": "code",
   "execution_count": 140,
   "metadata": {},
   "outputs": [
    {
     "name": "stdout",
     "output_type": "stream",
     "text": [
      "240/240 [==============================] - 134s 557ms/step - loss: 0.7233 - accuracy: 0.7911\n",
      "31/31 [==============================] - 8s 257ms/step - loss: 1.1333 - accuracy: 0.6793\n",
      "28/28 [==============================] - 8s 272ms/step - loss: 1.1932 - accuracy: 0.6780\n"
     ]
    }
   ],
   "source": [
    "errors(\"Modèle_P6\",model_ResNet50_P6,x_train_P6,x_val_P6,x_test_P6)"
   ]
  },
  {
   "cell_type": "code",
   "execution_count": 141,
   "metadata": {},
   "outputs": [
    {
     "name": "stdout",
     "output_type": "stream",
     "text": [
      "181/181 [==============================] - 100s 550ms/step - loss: 0.5676 - accuracy: 0.8325\n",
      "24/24 [==============================] - 6s 231ms/step - loss: 0.7057 - accuracy: 0.7725\n",
      "21/21 [==============================] - 5s 244ms/step - loss: 0.6735 - accuracy: 0.8030\n"
     ]
    }
   ],
   "source": [
    "errors(\"Modèle_P7\",model_ResNet50_P7,x_train,x_val,x_test)"
   ]
  },
  {
   "cell_type": "code",
   "execution_count": 142,
   "metadata": {},
   "outputs": [
    {
     "data": {
      "text/html": [
       "<div>\n",
       "<style scoped>\n",
       "    .dataframe tbody tr th:only-of-type {\n",
       "        vertical-align: middle;\n",
       "    }\n",
       "\n",
       "    .dataframe tbody tr th {\n",
       "        vertical-align: top;\n",
       "    }\n",
       "\n",
       "    .dataframe thead th {\n",
       "        text-align: right;\n",
       "    }\n",
       "</style>\n",
       "<table border=\"1\" class=\"dataframe\">\n",
       "  <thead>\n",
       "    <tr style=\"text-align: right;\">\n",
       "      <th></th>\n",
       "      <th>Modèle</th>\n",
       "      <th>acc</th>\n",
       "      <th>val_acc</th>\n",
       "      <th>evaluate(x_test)_acc</th>\n",
       "      <th>loss</th>\n",
       "      <th>val_loss</th>\n",
       "      <th>evaluate(x_test)_loss</th>\n",
       "    </tr>\n",
       "  </thead>\n",
       "  <tbody>\n",
       "    <tr>\n",
       "      <th>0</th>\n",
       "      <td>Modèle_P6</td>\n",
       "      <td>0.791065</td>\n",
       "      <td>0.679303</td>\n",
       "      <td>0.678043</td>\n",
       "      <td>0.723349</td>\n",
       "      <td>1.133317</td>\n",
       "      <td>1.193169</td>\n",
       "    </tr>\n",
       "    <tr>\n",
       "      <th>0</th>\n",
       "      <td>Modèle_P7</td>\n",
       "      <td>0.832509</td>\n",
       "      <td>0.772544</td>\n",
       "      <td>0.802996</td>\n",
       "      <td>0.567624</td>\n",
       "      <td>0.705703</td>\n",
       "      <td>0.673498</td>\n",
       "    </tr>\n",
       "  </tbody>\n",
       "</table>\n",
       "</div>"
      ],
      "text/plain": [
       "      Modèle       acc   val_acc  evaluate(x_test)_acc      loss  val_loss  \\\n",
       "0  Modèle_P6  0.791065  0.679303              0.678043  0.723349  1.133317   \n",
       "0  Modèle_P7  0.832509  0.772544              0.802996  0.567624  0.705703   \n",
       "\n",
       "   evaluate(x_test)_loss  \n",
       "0               1.193169  \n",
       "0               0.673498  "
      ]
     },
     "execution_count": 142,
     "metadata": {},
     "output_type": "execute_result"
    }
   ],
   "source": [
    "results"
   ]
  }
 ],
 "metadata": {
  "accelerator": "GPU",
  "colab": {
   "collapsed_sections": [],
   "name": "Untitled0.ipynb",
   "provenance": [],
   "toc_visible": true
  },
  "kernelspec": {
   "display_name": "Python 3",
   "language": "python",
   "name": "python3"
  },
  "language_info": {
   "codemirror_mode": {
    "name": "ipython",
    "version": 3
   },
   "file_extension": ".py",
   "mimetype": "text/x-python",
   "name": "python",
   "nbconvert_exporter": "python",
   "pygments_lexer": "ipython3",
   "version": "3.8.5"
  }
 },
 "nbformat": 4,
 "nbformat_minor": 1
}
